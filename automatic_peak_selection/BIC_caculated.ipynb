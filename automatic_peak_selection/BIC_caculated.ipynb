{
 "cells": [
  {
   "cell_type": "code",
   "execution_count": 52,
   "id": "942e7aa9",
   "metadata": {},
   "outputs": [],
   "source": [
    "import  h5py\n",
    "import pandas as pd\n",
    "import numpy as np\n",
    "import scanpy as sc\n",
    "import matplotlib.pyplot as plt\n",
    "\n",
    "from sklearn.mixture import GaussianMixture\n",
    "from matplotlib.ticker import MaxNLocator\n",
    "\n",
    "\n",
    "\n",
    "\n",
    "#--load the data-----\n",
    "f =  h5py.File(\"../mutilcellar_datasets/mouse_kidney_2DMALDI.h5\",'r')\n",
    "data = f[\"data\"]  # spectral information.\n"
   ]
  },
  {
   "cell_type": "code",
   "execution_count": 54,
   "id": "4876e8af",
   "metadata": {},
   "outputs": [
    {
     "name": "stderr",
     "output_type": "stream",
     "text": [
      "/home/kxxiao/anaconda3/envs/sg/lib/python3.6/site-packages/sklearn/mixture/_base.py:269: ConvergenceWarning: Initialization 1 did not converge. Try different init parameters, or increase max_iter, tol or check for degenerate data.\n",
      "  % (init + 1), ConvergenceWarning)\n",
      "/home/kxxiao/anaconda3/envs/sg/lib/python3.6/site-packages/sklearn/mixture/_base.py:269: ConvergenceWarning: Initialization 1 did not converge. Try different init parameters, or increase max_iter, tol or check for degenerate data.\n",
      "  % (init + 1), ConvergenceWarning)\n",
      "/home/kxxiao/anaconda3/envs/sg/lib/python3.6/site-packages/sklearn/mixture/_base.py:269: ConvergenceWarning: Initialization 1 did not converge. Try different init parameters, or increase max_iter, tol or check for degenerate data.\n",
      "  % (init + 1), ConvergenceWarning)\n",
      "/home/kxxiao/anaconda3/envs/sg/lib/python3.6/site-packages/sklearn/mixture/_base.py:269: ConvergenceWarning: Initialization 1 did not converge. Try different init parameters, or increase max_iter, tol or check for degenerate data.\n",
      "  % (init + 1), ConvergenceWarning)\n",
      "/home/kxxiao/anaconda3/envs/sg/lib/python3.6/site-packages/sklearn/mixture/_base.py:269: ConvergenceWarning: Initialization 1 did not converge. Try different init parameters, or increase max_iter, tol or check for degenerate data.\n",
      "  % (init + 1), ConvergenceWarning)\n",
      "/home/kxxiao/anaconda3/envs/sg/lib/python3.6/site-packages/sklearn/mixture/_base.py:269: ConvergenceWarning: Initialization 1 did not converge. Try different init parameters, or increase max_iter, tol or check for degenerate data.\n",
      "  % (init + 1), ConvergenceWarning)\n",
      "/home/kxxiao/anaconda3/envs/sg/lib/python3.6/site-packages/sklearn/mixture/_base.py:269: ConvergenceWarning: Initialization 1 did not converge. Try different init parameters, or increase max_iter, tol or check for degenerate data.\n",
      "  % (init + 1), ConvergenceWarning)\n",
      "/home/kxxiao/anaconda3/envs/sg/lib/python3.6/site-packages/sklearn/mixture/_base.py:269: ConvergenceWarning: Initialization 1 did not converge. Try different init parameters, or increase max_iter, tol or check for degenerate data.\n",
      "  % (init + 1), ConvergenceWarning)\n",
      "/home/kxxiao/anaconda3/envs/sg/lib/python3.6/site-packages/sklearn/mixture/_base.py:269: ConvergenceWarning: Initialization 1 did not converge. Try different init parameters, or increase max_iter, tol or check for degenerate data.\n",
      "  % (init + 1), ConvergenceWarning)\n",
      "/home/kxxiao/anaconda3/envs/sg/lib/python3.6/site-packages/sklearn/mixture/_base.py:269: ConvergenceWarning: Initialization 1 did not converge. Try different init parameters, or increase max_iter, tol or check for degenerate data.\n",
      "  % (init + 1), ConvergenceWarning)\n"
     ]
    },
    {
     "name": "stdout",
     "output_type": "stream",
     "text": [
      "The suggested number of clusters =  9\n"
     ]
    }
   ],
   "source": [
    "from kneed import KneeLocator\n",
    "from sklearn.mixture import GaussianMixture\n",
    "\n",
    "Latent_z=np.array(data) \n",
    "# covariance_type = {'full', 'spherical', 'diag', 'tied'}\n",
    "cov_Type = 'diag'\n",
    "n_components = np.arange(3, 20)\n",
    "models = [GaussianMixture(n, covariance_type=cov_Type, random_state=0).fit(Latent_z)\n",
    "          for n in n_components]\n",
    "\n",
    "BIC_Scores = [m.bic(Latent_z) for m in models]\n",
    "kneedle_point = KneeLocator(n_components, BIC_Scores, curve='convex', direction='decreasing')\n",
    "print('The suggested number of clusters = ', kneedle_point.knee)\n",
    "Elbow_idx = np.where(BIC_Scores==kneedle_point.knee_y)[0]"
   ]
  },
  {
   "cell_type": "code",
   "execution_count": 45,
   "id": "005fee24",
   "metadata": {},
   "outputs": [
    {
     "data": {
      "text/plain": [
       "(95000, 120)"
      ]
     },
     "execution_count": 45,
     "metadata": {},
     "output_type": "execute_result"
    }
   ],
   "source": [
    "Latent_z.shape"
   ]
  },
  {
   "cell_type": "code",
   "execution_count": 59,
   "id": "181d3071",
   "metadata": {},
   "outputs": [
    {
     "name": "stderr",
     "output_type": "stream",
     "text": [
      "No handles with labels found to put in legend.\n"
     ]
    },
    {
     "data": {
      "image/png": "[encoded data removed]",
      "text/plain": [
       "<Figure size 432x288 with 1 Axes>"
      ]
     },
     "metadata": {
      "needs_background": "light"
     },
     "output_type": "display_data"
    }
   ],
   "source": [
    "plt.rcParams[\"figure.figsize\"] = (6, 4)\n",
    "Y=np.linspace(min(BIC_Scores)-1111122,BIC_Scores[Elbow_idx[0]],12)\n",
    "X=np.ones(Y.size)*n_components[Elbow_idx[0]]\n",
    "\n",
    "plt.plot(n_components, BIC_Scores,'-b', marker='o',markerfacecolor='blue',\n",
    "         markeredgewidth='2',markersize=10,markevery=Elbow_idx)\n",
    "\n",
    "plt.plot(X,Y,color = 'red', linewidth=2, linestyle=\"--\")\n",
    "\n",
    "plt.gca().xaxis.set_major_locator(MaxNLocator(integer=True))\n",
    "plt.ylim(min(BIC_Scores)-1111122,max(BIC_Scores)+2222222)\n",
    "#plt.text(x,y,string,fontsize=15,verticalalignment=\"top\",horizontalalignment=\"right\")\n",
    "plt.legend(loc='best')\n",
    "plt.xlabel('Number of clusters');\n",
    "plt.ylabel('BIC score');\n",
    "plt.title('The suggested number of clusters = '+ np.str(kneedle_point.knee))\n",
    "plt.savefig(\"./BIC_fig_result/BIC_Mouse_2DMALDI.pdf\")\n",
    "# plt.plot(n_components, [m.aic(Latent_z) for m in models], label='AIC')\n",
    "# Ref Kneedle algorithm [V. Satopaa et al., international conference on distributed computing systems workshops. IEEE, 2011.]"
   ]
  },
  {
   "cell_type": "code",
   "execution_count": null,
   "id": "46d8ec54",
   "metadata": {},
   "outputs": [],
   "source": []
  }
 ],
 "metadata": {
  "kernelspec": {
   "display_name": "Python 3",
   "language": "python",
   "name": "python3"
  },
  "language_info": {
   "codemirror_mode": {
    "name": "ipython",
    "version": 3
   },
   "file_extension": ".py",
   "mimetype": "text/x-python",
   "name": "python",
   "nbconvert_exporter": "python",
   "pygments_lexer": "ipython3",
   "version": "3.6.15"
  }
 },
 "nbformat": 4,
 "nbformat_minor": 5
}
